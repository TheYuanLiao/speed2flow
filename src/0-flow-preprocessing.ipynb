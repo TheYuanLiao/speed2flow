{
 "cells": [
  {
   "cell_type": "markdown",
   "metadata": {
    "collapsed": true,
    "pycharm": {
     "name": "#%% md\n"
    }
   },
   "source": [
    "# Input data preprocessing"
   ]
  },
  {
   "cell_type": "code",
   "execution_count": 1,
   "outputs": [],
   "source": [
    "%load_ext autoreload\n",
    "%autoreload 2\n",
    "%matplotlib inline\n",
    "\n",
    "import os\n",
    "import subprocess\n",
    "import sys\n",
    "def get_repo_root():\n",
    "    \"\"\"Get the root directory of the repo.\"\"\"\n",
    "    dir_in_repo = os.path.dirname(os.path.abspath('__file__')) # os.getcwd()\n",
    "    return subprocess.check_output('git rev-parse --show-toplevel'.split(),\n",
    "                                   cwd=dir_in_repo,\n",
    "                                   universal_newlines=True).rstrip()\n",
    "sys.path.append(get_repo_root())\n",
    "ROOT_dir = get_repo_root()"
   ],
   "metadata": {
    "collapsed": false,
    "pycharm": {
     "name": "#%%\n"
    }
   }
  },
  {
   "cell_type": "code",
   "execution_count": 2,
   "outputs": [],
   "source": [
    "import pandas as pd\n",
    "import geopandas as gpd\n",
    "\n",
    "osm_folder = ROOT_dir + '/dbs/osm/'\n",
    "city = 'dublin'\n",
    "network = osm_folder + f'{city}.shp'"
   ],
   "metadata": {
    "collapsed": false,
    "pycharm": {
     "name": "#%%\n"
    }
   }
  },
  {
   "cell_type": "markdown",
   "source": [
    "## 1. Load data"
   ],
   "metadata": {
    "collapsed": false,
    "pycharm": {
     "name": "#%% md\n"
    }
   }
  },
  {
   "cell_type": "code",
   "execution_count": 7,
   "outputs": [
    {
     "data": {
      "text/plain": "Index(['Time', 'Site_name', 'Here_segmentID', 'Flow_Direction_0',\n       'Flow_Direction_1', 'Speed_direction_0', 'Speed_direction_1',\n       'Speed_segment_name_dir_0', 'Speed_segment_name_dir_1', 'OSM_ID_dir_0',\n       'OSM_Max_Speed_dir_0', 'OSM_ID_dir_1', 'OSM_Max_Speed_dir_1',\n       'Total_Lane_count', 'Max_Flow_Direction_0', 'Max_Flow_Direction_1',\n       '95th_Flow_Direction_0', '95th_Flow_Direction_1',\n       'Speed_segment_dir_0_FFS', 'Speed_segment_dir_1_FFS'],\n      dtype='object')"
     },
     "execution_count": 7,
     "metadata": {},
     "output_type": "execute_result"
    }
   ],
   "source": [
    "gdf = gpd.read_file(network)\n",
    "gdf['osm_id'] = gdf['osm_id'].astype(int)\n",
    "df = pd.read_csv(ROOT_dir + '/dbs/flow3.csv')\n",
    "df.drop(columns=['Unnamed: 0', 'Unnamed: 0.1'], inplace=True)\n",
    "df.columns"
   ],
   "metadata": {
    "collapsed": false,
    "pycharm": {
     "name": "#%%\n"
    }
   }
  },
  {
   "cell_type": "markdown",
   "source": [
    "### 1.1 For flow3.csv, separate the directions"
   ],
   "metadata": {
    "collapsed": false,
    "pycharm": {
     "name": "#%% md\n"
    }
   }
  },
  {
   "cell_type": "code",
   "execution_count": 8,
   "outputs": [
    {
     "data": {
      "text/plain": "                  time  sensor HERE_segID  flow  speed  speed_ff    osm_id  \\\n0  2018-02-01 00:00:00     513    2_10462   705   8.72      15.0  37865178   \n1  2018-02-01 00:00:00     513     2_8332   705  20.57      28.0   4385840   \n2  2018-02-01 00:00:00     513     2_4190   705  20.03      27.0   4385840   \n3  2018-02-01 00:00:00     513    2_18258   705  18.64      31.0   4385840   \n4  2018-02-01 00:00:00     513    2_18259   705  21.07      27.0   4385840   \n\n   direction  \n0          0  \n1          0  \n2          0  \n3          0  \n4          0  ",
      "text/html": "<div>\n<style scoped>\n    .dataframe tbody tr th:only-of-type {\n        vertical-align: middle;\n    }\n\n    .dataframe tbody tr th {\n        vertical-align: top;\n    }\n\n    .dataframe thead th {\n        text-align: right;\n    }\n</style>\n<table border=\"1\" class=\"dataframe\">\n  <thead>\n    <tr style=\"text-align: right;\">\n      <th></th>\n      <th>time</th>\n      <th>sensor</th>\n      <th>HERE_segID</th>\n      <th>flow</th>\n      <th>speed</th>\n      <th>speed_ff</th>\n      <th>osm_id</th>\n      <th>direction</th>\n    </tr>\n  </thead>\n  <tbody>\n    <tr>\n      <th>0</th>\n      <td>2018-02-01 00:00:00</td>\n      <td>513</td>\n      <td>2_10462</td>\n      <td>705</td>\n      <td>8.72</td>\n      <td>15.0</td>\n      <td>37865178</td>\n      <td>0</td>\n    </tr>\n    <tr>\n      <th>1</th>\n      <td>2018-02-01 00:00:00</td>\n      <td>513</td>\n      <td>2_8332</td>\n      <td>705</td>\n      <td>20.57</td>\n      <td>28.0</td>\n      <td>4385840</td>\n      <td>0</td>\n    </tr>\n    <tr>\n      <th>2</th>\n      <td>2018-02-01 00:00:00</td>\n      <td>513</td>\n      <td>2_4190</td>\n      <td>705</td>\n      <td>20.03</td>\n      <td>27.0</td>\n      <td>4385840</td>\n      <td>0</td>\n    </tr>\n    <tr>\n      <th>3</th>\n      <td>2018-02-01 00:00:00</td>\n      <td>513</td>\n      <td>2_18258</td>\n      <td>705</td>\n      <td>18.64</td>\n      <td>31.0</td>\n      <td>4385840</td>\n      <td>0</td>\n    </tr>\n    <tr>\n      <th>4</th>\n      <td>2018-02-01 00:00:00</td>\n      <td>513</td>\n      <td>2_18259</td>\n      <td>705</td>\n      <td>21.07</td>\n      <td>27.0</td>\n      <td>4385840</td>\n      <td>0</td>\n    </tr>\n  </tbody>\n</table>\n</div>"
     },
     "execution_count": 8,
     "metadata": {},
     "output_type": "execute_result"
    }
   ],
   "source": [
    "# Direction 0\n",
    "name_mapping0 = {'Time': 'time', 'Site_name': 'sensor',\n",
    "                 'Here_segmentID': 'HERE_segID', 'Flow_Direction_0': 'flow',\n",
    "                 'Speed_direction_0': 'speed', 'OSM_ID_dir_0': 'osm_id',\n",
    "                 'Speed_segment_dir_0_FFS': 'speed_ff'}\n",
    "df0 = df.loc[:, ['Time', 'Site_name', 'Here_segmentID',\n",
    "                  'Flow_Direction_0', 'Speed_direction_0',\n",
    "                 'Speed_segment_dir_0_FFS', 'OSM_ID_dir_0']].rename(columns=name_mapping0)\n",
    "df0.loc[:, 'direction'] = 0\n",
    "\n",
    "# Direction 1\n",
    "name_mapping1 = {'Time': 'time', 'Site_name': 'sensor',\n",
    "                 'Here_segmentID': 'HERE_segID', 'Flow_Direction_1': 'flow',\n",
    "                 'Speed_direction_1': 'speed', 'OSM_ID_dir_1': 'osm_id',\n",
    "                 'Speed_segment_dir_1_FFS': 'speed_ff'}\n",
    "df1 = df.loc[:, ['Time', 'Site_name', 'Here_segmentID',\n",
    "                  'Flow_Direction_1', 'Speed_direction_1',\n",
    "                 'Speed_segment_dir_1_FFS', 'OSM_ID_dir_1']].rename(columns=name_mapping1)\n",
    "df1.loc[:, 'direction'] = 1\n",
    "\n",
    "df = pd.concat([df0, df1])\n",
    "df.head()"
   ],
   "metadata": {
    "collapsed": false,
    "pycharm": {
     "name": "#%%\n"
    }
   }
  },
  {
   "cell_type": "code",
   "execution_count": 9,
   "outputs": [
    {
     "data": {
      "text/plain": "                  time  sensor HERE_segID  flow  speed  speed_ff    osm_id  \\\n0  2018-02-01 00:00:00     513    2_10462   705   8.72      15.0  37865178   \n1  2018-02-01 00:00:00     513     2_8332   705  20.57      28.0   4385840   \n2  2018-02-01 00:00:00     513     2_4190   705  20.03      27.0   4385840   \n3  2018-02-01 00:00:00     513    2_18258   705  18.64      31.0   4385840   \n4  2018-02-01 00:00:00     513    2_18259   705  21.07      27.0   4385840   \n\n   direction  oneway  lanes  \n0          0       0      1  \n1          0       0      1  \n2          0       0      1  \n3          0       0      1  \n4          0       0      1  ",
      "text/html": "<div>\n<style scoped>\n    .dataframe tbody tr th:only-of-type {\n        vertical-align: middle;\n    }\n\n    .dataframe tbody tr th {\n        vertical-align: top;\n    }\n\n    .dataframe thead th {\n        text-align: right;\n    }\n</style>\n<table border=\"1\" class=\"dataframe\">\n  <thead>\n    <tr style=\"text-align: right;\">\n      <th></th>\n      <th>time</th>\n      <th>sensor</th>\n      <th>HERE_segID</th>\n      <th>flow</th>\n      <th>speed</th>\n      <th>speed_ff</th>\n      <th>osm_id</th>\n      <th>direction</th>\n      <th>oneway</th>\n      <th>lanes</th>\n    </tr>\n  </thead>\n  <tbody>\n    <tr>\n      <th>0</th>\n      <td>2018-02-01 00:00:00</td>\n      <td>513</td>\n      <td>2_10462</td>\n      <td>705</td>\n      <td>8.72</td>\n      <td>15.0</td>\n      <td>37865178</td>\n      <td>0</td>\n      <td>0</td>\n      <td>1</td>\n    </tr>\n    <tr>\n      <th>1</th>\n      <td>2018-02-01 00:00:00</td>\n      <td>513</td>\n      <td>2_8332</td>\n      <td>705</td>\n      <td>20.57</td>\n      <td>28.0</td>\n      <td>4385840</td>\n      <td>0</td>\n      <td>0</td>\n      <td>1</td>\n    </tr>\n    <tr>\n      <th>2</th>\n      <td>2018-02-01 00:00:00</td>\n      <td>513</td>\n      <td>2_4190</td>\n      <td>705</td>\n      <td>20.03</td>\n      <td>27.0</td>\n      <td>4385840</td>\n      <td>0</td>\n      <td>0</td>\n      <td>1</td>\n    </tr>\n    <tr>\n      <th>3</th>\n      <td>2018-02-01 00:00:00</td>\n      <td>513</td>\n      <td>2_18258</td>\n      <td>705</td>\n      <td>18.64</td>\n      <td>31.0</td>\n      <td>4385840</td>\n      <td>0</td>\n      <td>0</td>\n      <td>1</td>\n    </tr>\n    <tr>\n      <th>4</th>\n      <td>2018-02-01 00:00:00</td>\n      <td>513</td>\n      <td>2_18259</td>\n      <td>705</td>\n      <td>21.07</td>\n      <td>27.0</td>\n      <td>4385840</td>\n      <td>0</td>\n      <td>0</td>\n      <td>1</td>\n    </tr>\n  </tbody>\n</table>\n</div>"
     },
     "execution_count": 9,
     "metadata": {},
     "output_type": "execute_result"
    }
   ],
   "source": [
    "df_n = pd.merge(df, gdf.loc[:, ['osm_id', 'oneway', 'lanes']].drop_duplicates(subset=['osm_id']),\n",
    "                on='osm_id', how='left')\n",
    "# Missing lanes are assumed to be small roads with lane number = 1\n",
    "df_n.loc[:, 'lanes'] = df_n.loc[:, 'lanes'].apply(lambda x: int(x) if x in ['4', '3', '2', '1'] else 1)\n",
    "\n",
    "# Missing values are assumed to be small roads with oneway = 1\n",
    "df_n.loc[:, 'oneway'] = df_n.loc[:, 'oneway'].apply(lambda x: int(x) if x in [0, 1] else 1)\n",
    "df_n.head()"
   ],
   "metadata": {
    "collapsed": false,
    "pycharm": {
     "name": "#%%\n"
    }
   }
  },
  {
   "cell_type": "code",
   "execution_count": 10,
   "outputs": [
    {
     "data": {
      "text/plain": "oneway  lanes\n0       1        552814\n        2        586333\n        3        201158\n        4        185189\n1       1        355506\n        2        252212\n        3        154713\n        4         38233\ndtype: int64"
     },
     "execution_count": 10,
     "metadata": {},
     "output_type": "execute_result"
    }
   ],
   "source": [
    "df_n.groupby(['oneway', 'lanes']).size()"
   ],
   "metadata": {
    "collapsed": false,
    "pycharm": {
     "name": "#%%\n"
    }
   }
  },
  {
   "cell_type": "code",
   "execution_count": 11,
   "outputs": [
    {
     "name": "stdout",
     "output_type": "stream",
     "text": [
      "Number of road segments: 557\n"
     ]
    }
   ],
   "source": [
    "print('Number of road segments:', len(df_n.HERE_segID.unique()))"
   ],
   "metadata": {
    "collapsed": false,
    "pycharm": {
     "name": "#%%\n"
    }
   }
  },
  {
   "cell_type": "markdown",
   "source": [
    "## 2 Define capacity theoretically"
   ],
   "metadata": {
    "collapsed": false,
    "pycharm": {
     "name": "#%% md\n"
    }
   }
  },
  {
   "cell_type": "code",
   "execution_count": 12,
   "outputs": [],
   "source": [
    "capacity_dict = {(1, 1): 1200, (1, 0): 700, (2, 1): 2400, (2, 0): 1500,\n",
    "                 (3, 1): 3600, (3, 0): 2800, (4, 1): 4800, (4, 0): 4000}"
   ],
   "metadata": {
    "collapsed": false,
    "pycharm": {
     "name": "#%%\n"
    }
   }
  },
  {
   "cell_type": "code",
   "execution_count": 13,
   "outputs": [],
   "source": [
    "df_n.loc[:, 'capacity'] = df_n.apply(lambda row: capacity_dict[(row['lanes'], row['oneway'])], axis=1)\n",
    "df_n.to_csv(ROOT_dir + '/dbs/flow3m.csv', index=False)"
   ],
   "metadata": {
    "collapsed": false,
    "pycharm": {
     "name": "#%%\n"
    }
   }
  },
  {
   "cell_type": "markdown",
   "source": [
    "## 3 Test the simple form of BPR"
   ],
   "metadata": {
    "collapsed": false,
    "pycharm": {
     "name": "#%% md\n"
    }
   }
  },
  {
   "cell_type": "code",
   "execution_count": 9,
   "outputs": [],
   "source": [
    "df_n = pd.read_csv(ROOT_dir + '/dbs/flow2m.csv')\n",
    "def capacity_estimation(a=None, L=None, u=None, RT=None, l=None):\n",
    "    return 1000*l/(0.278 * RT + u/(26 * a) + L)\n",
    "df_n.loc[:, 'capacity_est'] = df_n.apply(lambda row: capacity_estimation(a=2.5, L=4.5, u=row['OSM_Max_Speed'],\n",
    "                                                                         RT=1.1, l=row['lanes']), axis=1)"
   ],
   "metadata": {
    "collapsed": false,
    "pycharm": {
     "name": "#%%\n"
    }
   }
  },
  {
   "cell_type": "code",
   "execution_count": 12,
   "outputs": [],
   "source": [
    "alpha = 0.15\n",
    "beta = 4\n",
    "# Here_FFS\n",
    "df_n.loc[:, 'flow'] = df_n.capacity * ( (df_n.Here_FFS / df_n.Here_Speed_uncap - 1) / alpha )**(1/beta)"
   ],
   "metadata": {
    "collapsed": false,
    "pycharm": {
     "name": "#%%\n"
    }
   }
  }
 ],
 "metadata": {
  "kernelspec": {
   "display_name": "Python 3",
   "language": "python",
   "name": "python3"
  },
  "language_info": {
   "codemirror_mode": {
    "name": "ipython",
    "version": 2
   },
   "file_extension": ".py",
   "mimetype": "text/x-python",
   "name": "python",
   "nbconvert_exporter": "python",
   "pygments_lexer": "ipython2",
   "version": "2.7.6"
  }
 },
 "nbformat": 4,
 "nbformat_minor": 0
}