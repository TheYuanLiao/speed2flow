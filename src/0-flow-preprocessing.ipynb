{
 "cells": [
  {
   "cell_type": "markdown",
   "metadata": {
    "collapsed": true,
    "pycharm": {
     "name": "#%% md\n"
    }
   },
   "source": [
    "# Input data preprocessing"
   ]
  },
  {
   "cell_type": "code",
   "execution_count": 1,
   "outputs": [],
   "source": [
    "%load_ext autoreload\n",
    "%autoreload 2\n",
    "%matplotlib inline\n",
    "\n",
    "import os\n",
    "import subprocess\n",
    "import sys\n",
    "def get_repo_root():\n",
    "    \"\"\"Get the root directory of the repo.\"\"\"\n",
    "    dir_in_repo = os.path.dirname(os.path.abspath('__file__')) # os.getcwd()\n",
    "    return subprocess.check_output('git rev-parse --show-toplevel'.split(),\n",
    "                                   cwd=dir_in_repo,\n",
    "                                   universal_newlines=True).rstrip()\n",
    "sys.path.append(get_repo_root())\n",
    "ROOT_dir = get_repo_root()"
   ],
   "metadata": {
    "collapsed": false,
    "pycharm": {
     "name": "#%%\n"
    }
   }
  },
  {
   "cell_type": "code",
   "execution_count": 2,
   "outputs": [],
   "source": [
    "import pandas as pd\n",
    "import geopandas as gpd\n",
    "\n",
    "osm_folder = ROOT_dir + '/dbs/osm/'\n",
    "city = 'istanbul'\n",
    "network = osm_folder + f'{city}.shp'"
   ],
   "metadata": {
    "collapsed": false,
    "pycharm": {
     "name": "#%%\n"
    }
   }
  },
  {
   "cell_type": "markdown",
   "source": [
    "## 1. Load data"
   ],
   "metadata": {
    "collapsed": false,
    "pycharm": {
     "name": "#%% md\n"
    }
   }
  },
  {
   "cell_type": "code",
   "execution_count": 34,
   "outputs": [
    {
     "data": {
      "text/plain": "Date                             2018-01-01\nHour                                      0\nDetector                                 28\nIST_Speed_dir_0                     98.7333\nIST_Speed_dir_1                     86.1333\nFlow_dir_0                             2295\nFlow_dir_1                             3064\nActive_Line_Number                        6\nFlow_Lane1                              325\nFlow_Lane2                              992\nFlow_Lane3                              973\nFlow_Lane4                             1249\nFlow_Lane5                             1285\nFlow_Lane6                              535\nFlow_Lane7                                0\nFlow_Lane8                                0\nSpeed1                              89.7333\nSpeed2                              92.0667\nSpeed3                              109.633\nSpeed4                                 95.9\nSpeed5                              82.0333\nSpeed6                              76.8667\nSpeed7                                  NaN\nSpeed8                                  NaN\nHere_segmentID                      3_10128\nHere_Speed_direction_0                 80.2\nHere_Speed_direction_1                    0\nHere_FFS_direction_0                     76\nHere_FFS_direction_1                      0\nHere_Speed_segment_name_dir_0      3_10128-\nHere_Speed_segment_name_dir_1              \nOSM_ID_SpeedSensor_dir_0           76846059\nOSM_ID_SpeedSensor_dir_1                   \nOSM_ID_FlowDetector                       0\nOSM_MaxSpeed_FlowDetector                 0\nOSM_ID_FlowDetector_dir_0          76846059\nName: 0, dtype: object"
     },
     "execution_count": 34,
     "metadata": {},
     "output_type": "execute_result"
    }
   ],
   "source": [
    "gdf = gpd.read_file(network)\n",
    "gdf['osm_id'] = gdf['osm_id'].astype(int)\n",
    "df = pd.read_csv(ROOT_dir + f'/dbs/flow_{city}.csv')\n",
    "#df.drop(columns=['Unnamed: 0', 'Unnamed: 0.1'], inplace=True)\n",
    "df.iloc[0]"
   ],
   "metadata": {
    "collapsed": false,
    "pycharm": {
     "name": "#%%\n"
    }
   }
  },
  {
   "cell_type": "markdown",
   "source": [
    "### 1.1 For flow_istanbul.csv, separate the directions"
   ],
   "metadata": {
    "collapsed": false,
    "pycharm": {
     "name": "#%% md\n"
    }
   }
  },
  {
   "cell_type": "code",
   "execution_count": 35,
   "outputs": [
    {
     "data": {
      "text/plain": "   time  sensor HERE_segID  flow   speed     osm_id  speed_ff    speed_gt  \\\n0     0      28    3_10128  2295   80.20   76846059      76.0   98.733333   \n1     0      41    3_10114  2410   80.33  370173491      73.0   77.275862   \n2     0      87    3_7162+  1532   92.91  550287857      84.0  114.310345   \n3     0     144    3_2774+  1953  100.88  174344130      82.0  101.071429   \n4     0     144     3_2776  1953   96.56    4477300      64.0  101.071429   \n\n   direction  \n0          0  \n1          0  \n2          0  \n3          0  \n4          0  ",
      "text/html": "<div>\n<style scoped>\n    .dataframe tbody tr th:only-of-type {\n        vertical-align: middle;\n    }\n\n    .dataframe tbody tr th {\n        vertical-align: top;\n    }\n\n    .dataframe thead th {\n        text-align: right;\n    }\n</style>\n<table border=\"1\" class=\"dataframe\">\n  <thead>\n    <tr style=\"text-align: right;\">\n      <th></th>\n      <th>time</th>\n      <th>sensor</th>\n      <th>HERE_segID</th>\n      <th>flow</th>\n      <th>speed</th>\n      <th>osm_id</th>\n      <th>speed_ff</th>\n      <th>speed_gt</th>\n      <th>direction</th>\n    </tr>\n  </thead>\n  <tbody>\n    <tr>\n      <th>0</th>\n      <td>0</td>\n      <td>28</td>\n      <td>3_10128</td>\n      <td>2295</td>\n      <td>80.20</td>\n      <td>76846059</td>\n      <td>76.0</td>\n      <td>98.733333</td>\n      <td>0</td>\n    </tr>\n    <tr>\n      <th>1</th>\n      <td>0</td>\n      <td>41</td>\n      <td>3_10114</td>\n      <td>2410</td>\n      <td>80.33</td>\n      <td>370173491</td>\n      <td>73.0</td>\n      <td>77.275862</td>\n      <td>0</td>\n    </tr>\n    <tr>\n      <th>2</th>\n      <td>0</td>\n      <td>87</td>\n      <td>3_7162+</td>\n      <td>1532</td>\n      <td>92.91</td>\n      <td>550287857</td>\n      <td>84.0</td>\n      <td>114.310345</td>\n      <td>0</td>\n    </tr>\n    <tr>\n      <th>3</th>\n      <td>0</td>\n      <td>144</td>\n      <td>3_2774+</td>\n      <td>1953</td>\n      <td>100.88</td>\n      <td>174344130</td>\n      <td>82.0</td>\n      <td>101.071429</td>\n      <td>0</td>\n    </tr>\n    <tr>\n      <th>4</th>\n      <td>0</td>\n      <td>144</td>\n      <td>3_2776</td>\n      <td>1953</td>\n      <td>96.56</td>\n      <td>4477300</td>\n      <td>64.0</td>\n      <td>101.071429</td>\n      <td>0</td>\n    </tr>\n  </tbody>\n</table>\n</div>"
     },
     "execution_count": 35,
     "metadata": {},
     "output_type": "execute_result"
    }
   ],
   "source": [
    "# Direction 0\n",
    "name_mapping0 = {'Hour': 'time',\n",
    "                 'Detector': 'sensor',\n",
    "                 'Here_segmentID': 'HERE_segID',\n",
    "                 'Flow_dir_0': 'flow',\n",
    "                 'Here_Speed_direction_0': 'speed',\n",
    "                 'OSM_ID_SpeedSensor_dir_0': 'osm_id',\n",
    "                 'Here_FFS_direction_0': 'speed_ff',\n",
    "                 'IST_Speed_dir_0': 'speed_gt'}\n",
    "df0 = df.loc[:, ['Hour',\n",
    "                 'Detector',\n",
    "                 'Here_segmentID',\n",
    "                 'Flow_dir_0',\n",
    "                 'Here_Speed_direction_0',\n",
    "                 'OSM_ID_SpeedSensor_dir_0',\n",
    "                 'Here_FFS_direction_0',\n",
    "                 'IST_Speed_dir_0']].rename(columns=name_mapping0)\n",
    "df0.loc[:, 'direction'] = 0\n",
    "\n",
    "# Direction 1\n",
    "name_mapping1 = {'Hour': 'time',\n",
    "                 'Detector': 'sensor',\n",
    "                 'Here_segmentID': 'HERE_segID',\n",
    "                 'Flow_dir_1': 'flow',\n",
    "                 'Here_Speed_direction_1': 'speed',\n",
    "                 'OSM_ID_SpeedSensor_dir_1': 'osm_id',\n",
    "                 'Here_FFS_direction_1': 'speed_ff',\n",
    "                 'IST_Speed_dir_1': 'speed_gt'}\n",
    "df1 = df.loc[:, ['Hour',\n",
    "                 'Detector',\n",
    "                 'Here_segmentID',\n",
    "                 'Flow_dir_1',\n",
    "                 'Here_Speed_direction_1',\n",
    "                 'OSM_ID_SpeedSensor_dir_1',\n",
    "                 'Here_FFS_direction_1',\n",
    "                 'IST_Speed_dir_1']].rename(columns=name_mapping1)\n",
    "df1.loc[:, 'direction'] = 1\n",
    "\n",
    "df = pd.concat([df0, df1])\n",
    "df.head()"
   ],
   "metadata": {
    "collapsed": false,
    "pycharm": {
     "name": "#%%\n"
    }
   }
  },
  {
   "cell_type": "markdown",
   "source": [
    "### 1.2 Infer the free-flow speed from sensors"
   ],
   "metadata": {
    "collapsed": false,
    "pycharm": {
     "name": "#%% md\n"
    }
   }
  },
  {
   "cell_type": "code",
   "execution_count": 36,
   "outputs": [
    {
     "data": {
      "text/plain": "time                  0\nsensor               28\nHERE_segID      3_10128\nflow               2295\nspeed              80.2\nosm_id         76846059\nspeed_ff             76\nspeed_gt        98.7333\ndirection             0\nspeed_gt_ff         112\ncapacity_gt      3693.6\nName: 0, dtype: object"
     },
     "execution_count": 36,
     "metadata": {},
     "output_type": "execute_result"
    }
   ],
   "source": [
    "df_ff = df.groupby(['HERE_segID',\n",
    "                    'direction'])['speed_gt'].max().reset_index().rename(columns={'speed_gt': 'speed_gt_ff'})\n",
    "df = pd.merge(df, df_ff, on=['HERE_segID', 'direction'])\n",
    "\n",
    "df_cap_p = df.groupby(['HERE_segID',\n",
    "                       'direction'])['flow'].quantile(q=0.95).reset_index().rename(columns={'flow': 'capacity_gt'})\n",
    "df = pd.merge(df, df_cap_p, on=['HERE_segID', 'direction'])\n",
    "df.iloc[0]"
   ],
   "metadata": {
    "collapsed": false,
    "pycharm": {
     "name": "#%%\n"
    }
   }
  },
  {
   "cell_type": "code",
   "execution_count": 37,
   "outputs": [
    {
     "data": {
      "text/plain": "   time  sensor HERE_segID  flow  speed    osm_id  speed_ff    speed_gt  \\\n0     0      28    3_10128  2295  80.20  76846059      76.0   98.733333   \n1     1      28    3_10128  2307  80.68  76846059      76.0   98.533333   \n2     2      28    3_10128  1821  80.63  76846059      76.0   99.814815   \n3     3      28    3_10128  1431  86.28  76846059      76.0  104.766667   \n4     4      28    3_10128  1009  89.80  76846059      76.0  106.166667   \n\n   direction  speed_gt_ff  capacity_gt  oneway  lanes  \n0          0        112.0       3693.6       1      3  \n1          0        112.0       3693.6       1      3  \n2          0        112.0       3693.6       1      3  \n3          0        112.0       3693.6       1      3  \n4          0        112.0       3693.6       1      3  ",
      "text/html": "<div>\n<style scoped>\n    .dataframe tbody tr th:only-of-type {\n        vertical-align: middle;\n    }\n\n    .dataframe tbody tr th {\n        vertical-align: top;\n    }\n\n    .dataframe thead th {\n        text-align: right;\n    }\n</style>\n<table border=\"1\" class=\"dataframe\">\n  <thead>\n    <tr style=\"text-align: right;\">\n      <th></th>\n      <th>time</th>\n      <th>sensor</th>\n      <th>HERE_segID</th>\n      <th>flow</th>\n      <th>speed</th>\n      <th>osm_id</th>\n      <th>speed_ff</th>\n      <th>speed_gt</th>\n      <th>direction</th>\n      <th>speed_gt_ff</th>\n      <th>capacity_gt</th>\n      <th>oneway</th>\n      <th>lanes</th>\n    </tr>\n  </thead>\n  <tbody>\n    <tr>\n      <th>0</th>\n      <td>0</td>\n      <td>28</td>\n      <td>3_10128</td>\n      <td>2295</td>\n      <td>80.20</td>\n      <td>76846059</td>\n      <td>76.0</td>\n      <td>98.733333</td>\n      <td>0</td>\n      <td>112.0</td>\n      <td>3693.6</td>\n      <td>1</td>\n      <td>3</td>\n    </tr>\n    <tr>\n      <th>1</th>\n      <td>1</td>\n      <td>28</td>\n      <td>3_10128</td>\n      <td>2307</td>\n      <td>80.68</td>\n      <td>76846059</td>\n      <td>76.0</td>\n      <td>98.533333</td>\n      <td>0</td>\n      <td>112.0</td>\n      <td>3693.6</td>\n      <td>1</td>\n      <td>3</td>\n    </tr>\n    <tr>\n      <th>2</th>\n      <td>2</td>\n      <td>28</td>\n      <td>3_10128</td>\n      <td>1821</td>\n      <td>80.63</td>\n      <td>76846059</td>\n      <td>76.0</td>\n      <td>99.814815</td>\n      <td>0</td>\n      <td>112.0</td>\n      <td>3693.6</td>\n      <td>1</td>\n      <td>3</td>\n    </tr>\n    <tr>\n      <th>3</th>\n      <td>3</td>\n      <td>28</td>\n      <td>3_10128</td>\n      <td>1431</td>\n      <td>86.28</td>\n      <td>76846059</td>\n      <td>76.0</td>\n      <td>104.766667</td>\n      <td>0</td>\n      <td>112.0</td>\n      <td>3693.6</td>\n      <td>1</td>\n      <td>3</td>\n    </tr>\n    <tr>\n      <th>4</th>\n      <td>4</td>\n      <td>28</td>\n      <td>3_10128</td>\n      <td>1009</td>\n      <td>89.80</td>\n      <td>76846059</td>\n      <td>76.0</td>\n      <td>106.166667</td>\n      <td>0</td>\n      <td>112.0</td>\n      <td>3693.6</td>\n      <td>1</td>\n      <td>3</td>\n    </tr>\n  </tbody>\n</table>\n</div>"
     },
     "execution_count": 37,
     "metadata": {},
     "output_type": "execute_result"
    }
   ],
   "source": [
    "df_n = pd.merge(df, gdf.loc[:, ['osm_id', 'oneway', 'lanes']].drop_duplicates(subset=['osm_id']),\n",
    "                on='osm_id', how='left')\n",
    "# Missing lanes are assumed to be small roads with lane number = 1\n",
    "df_n.loc[:, 'lanes'] = df_n.loc[:, 'lanes'].apply(lambda x: int(x) if x in ['4', '3', '2', '1'] else 1)\n",
    "\n",
    "# Missing values are assumed to be small roads with oneway = 1\n",
    "df_n.loc[:, 'oneway'] = df_n.loc[:, 'oneway'].apply(lambda x: int(x) if x in [0, 1] else 1)\n",
    "df_n.head()"
   ],
   "metadata": {
    "collapsed": false,
    "pycharm": {
     "name": "#%%\n"
    }
   }
  },
  {
   "cell_type": "code",
   "execution_count": 27,
   "outputs": [
    {
     "data": {
      "text/plain": "oneway  lanes\n0       1         18851\n1       1        252374\n        2         17150\n        3         72752\n        4         23107\ndtype: int64"
     },
     "execution_count": 27,
     "metadata": {},
     "output_type": "execute_result"
    }
   ],
   "source": [
    "df_n.groupby(['oneway', 'lanes']).size()"
   ],
   "metadata": {
    "collapsed": false,
    "pycharm": {
     "name": "#%%\n"
    }
   }
  },
  {
   "cell_type": "code",
   "execution_count": 28,
   "outputs": [
    {
     "name": "stdout",
     "output_type": "stream",
     "text": [
      "Number of road segments: 70\n"
     ]
    }
   ],
   "source": [
    "print('Number of road segments:', len(df_n.HERE_segID.unique()))"
   ],
   "metadata": {
    "collapsed": false,
    "pycharm": {
     "name": "#%%\n"
    }
   }
  },
  {
   "cell_type": "markdown",
   "source": [
    "## 2 Define capacity theoretically"
   ],
   "metadata": {
    "collapsed": false,
    "pycharm": {
     "name": "#%% md\n"
    }
   }
  },
  {
   "cell_type": "code",
   "execution_count": 29,
   "outputs": [],
   "source": [
    "capacity_dict = {(1, 1): 1200, (1, 0): 700, (2, 1): 2400, (2, 0): 1500,\n",
    "                 (3, 1): 3600, (3, 0): 2800, (4, 1): 4800, (4, 0): 4000}"
   ],
   "metadata": {
    "collapsed": false,
    "pycharm": {
     "name": "#%%\n"
    }
   }
  },
  {
   "cell_type": "code",
   "execution_count": 38,
   "outputs": [],
   "source": [
    "df_n.loc[:, 'capacity'] = df_n.apply(lambda row: capacity_dict[(row['lanes'], row['oneway'])], axis=1)\n",
    "df_n.to_csv(ROOT_dir + f'/dbs/flow_{city}_m.csv', index=False)\n"
   ],
   "metadata": {
    "collapsed": false,
    "pycharm": {
     "name": "#%%\n"
    }
   }
  }
 ],
 "metadata": {
  "kernelspec": {
   "display_name": "Python 3",
   "language": "python",
   "name": "python3"
  },
  "language_info": {
   "codemirror_mode": {
    "name": "ipython",
    "version": 2
   },
   "file_extension": ".py",
   "mimetype": "text/x-python",
   "name": "python",
   "nbconvert_exporter": "python",
   "pygments_lexer": "ipython2",
   "version": "2.7.6"
  }
 },
 "nbformat": 4,
 "nbformat_minor": 0
}