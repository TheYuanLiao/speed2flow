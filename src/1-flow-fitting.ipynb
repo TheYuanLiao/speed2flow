{
 "cells": [
  {
   "cell_type": "markdown",
   "metadata": {
    "collapsed": true,
    "pycharm": {
     "name": "#%% md\n"
    }
   },
   "source": [
    "# Flow fitting\n",
    "Use flow sensors' data (ground truth), HERE speed records, and OSM data to compute the estimated flow."
   ]
  },
  {
   "cell_type": "code",
   "execution_count": 1,
   "outputs": [],
   "source": [
    "%load_ext autoreload\n",
    "%autoreload 2\n",
    "%matplotlib inline"
   ],
   "metadata": {
    "collapsed": false,
    "pycharm": {
     "name": "#%%\n"
    }
   }
  },
  {
   "cell_type": "code",
   "execution_count": 29,
   "outputs": [],
   "source": [
    "import os\n",
    "import subprocess\n",
    "import sys\n",
    "import numpy as np\n",
    "\n",
    "def get_repo_root():\n",
    "    \"\"\"Get the root directory of the repo.\"\"\"\n",
    "    dir_in_repo = os.path.dirname(os.path.abspath('__file__')) # os.getcwd()\n",
    "    return subprocess.check_output('git rev-parse --show-toplevel'.split(),\n",
    "                                   cwd=dir_in_repo,\n",
    "                                   universal_newlines=True).rstrip()\n",
    "sys.path.append(get_repo_root())\n",
    "ROOT_dir = get_repo_root()\n",
    "\n",
    "def flow_cal(X, alpha=None, beta=None):\n",
    "    \"\"\"\n",
    "    Function to get flow by using speed, free-flow speed, and capacity\n",
    "    :param X: an array, [[speed, free-flow speed, capacity]...]\n",
    "    :param alpha: BPR parameter\n",
    "    :param beta: BPR parameter\n",
    "    :return: estimated flow\n",
    "    \"\"\"\n",
    "    return X[:, 2]*((X[:, 1]/X[:, 0] - 1) / alpha)**(1/beta)"
   ],
   "metadata": {
    "collapsed": false,
    "pycharm": {
     "name": "#%%\n"
    }
   }
  },
  {
   "cell_type": "code",
   "execution_count": 30,
   "outputs": [
    {
     "name": "stderr",
     "output_type": "stream",
     "text": [
      "C:\\ProgramData\\Anaconda3\\lib\\site-packages\\IPython\\core\\interactiveshell.py:3057: DtypeWarning: Columns (5) have mixed types.Specify dtype option on import or set low_memory=False.\n",
      "  interactivity=interactivity, compiler=compiler, result=result)\n"
     ]
    },
    {
     "data": {
      "text/plain": "   time  sensor HERE_segID  flow  speed    osm_id  speed_ff    speed_gt  \\\n0     0      28    3_10128  2295  80.20  76846059      76.0   98.733333   \n1     1      28    3_10128  2307  80.68  76846059      76.0   98.533333   \n2     2      28    3_10128  1821  80.63  76846059      76.0   99.814815   \n3     3      28    3_10128  1431  86.28  76846059      76.0  104.766667   \n4     4      28    3_10128  1009  89.80  76846059      76.0  106.166667   \n\n   direction  speed_gt_ff  capacity_gt  oneway  lanes  capacity  \n0          0        112.0       3693.6       1      3      3600  \n1          0        112.0       3693.6       1      3      3600  \n2          0        112.0       3693.6       1      3      3600  \n3          0        112.0       3693.6       1      3      3600  \n4          0        112.0       3693.6       1      3      3600  ",
      "text/html": "<div>\n<style scoped>\n    .dataframe tbody tr th:only-of-type {\n        vertical-align: middle;\n    }\n\n    .dataframe tbody tr th {\n        vertical-align: top;\n    }\n\n    .dataframe thead th {\n        text-align: right;\n    }\n</style>\n<table border=\"1\" class=\"dataframe\">\n  <thead>\n    <tr style=\"text-align: right;\">\n      <th></th>\n      <th>time</th>\n      <th>sensor</th>\n      <th>HERE_segID</th>\n      <th>flow</th>\n      <th>speed</th>\n      <th>osm_id</th>\n      <th>speed_ff</th>\n      <th>speed_gt</th>\n      <th>direction</th>\n      <th>speed_gt_ff</th>\n      <th>capacity_gt</th>\n      <th>oneway</th>\n      <th>lanes</th>\n      <th>capacity</th>\n    </tr>\n  </thead>\n  <tbody>\n    <tr>\n      <th>0</th>\n      <td>0</td>\n      <td>28</td>\n      <td>3_10128</td>\n      <td>2295</td>\n      <td>80.20</td>\n      <td>76846059</td>\n      <td>76.0</td>\n      <td>98.733333</td>\n      <td>0</td>\n      <td>112.0</td>\n      <td>3693.6</td>\n      <td>1</td>\n      <td>3</td>\n      <td>3600</td>\n    </tr>\n    <tr>\n      <th>1</th>\n      <td>1</td>\n      <td>28</td>\n      <td>3_10128</td>\n      <td>2307</td>\n      <td>80.68</td>\n      <td>76846059</td>\n      <td>76.0</td>\n      <td>98.533333</td>\n      <td>0</td>\n      <td>112.0</td>\n      <td>3693.6</td>\n      <td>1</td>\n      <td>3</td>\n      <td>3600</td>\n    </tr>\n    <tr>\n      <th>2</th>\n      <td>2</td>\n      <td>28</td>\n      <td>3_10128</td>\n      <td>1821</td>\n      <td>80.63</td>\n      <td>76846059</td>\n      <td>76.0</td>\n      <td>99.814815</td>\n      <td>0</td>\n      <td>112.0</td>\n      <td>3693.6</td>\n      <td>1</td>\n      <td>3</td>\n      <td>3600</td>\n    </tr>\n    <tr>\n      <th>3</th>\n      <td>3</td>\n      <td>28</td>\n      <td>3_10128</td>\n      <td>1431</td>\n      <td>86.28</td>\n      <td>76846059</td>\n      <td>76.0</td>\n      <td>104.766667</td>\n      <td>0</td>\n      <td>112.0</td>\n      <td>3693.6</td>\n      <td>1</td>\n      <td>3</td>\n      <td>3600</td>\n    </tr>\n    <tr>\n      <th>4</th>\n      <td>4</td>\n      <td>28</td>\n      <td>3_10128</td>\n      <td>1009</td>\n      <td>89.80</td>\n      <td>76846059</td>\n      <td>76.0</td>\n      <td>106.166667</td>\n      <td>0</td>\n      <td>112.0</td>\n      <td>3693.6</td>\n      <td>1</td>\n      <td>3</td>\n      <td>3600</td>\n    </tr>\n  </tbody>\n</table>\n</div>"
     },
     "execution_count": 30,
     "metadata": {},
     "output_type": "execute_result"
    }
   ],
   "source": [
    "import pandas as pd\n",
    "from scipy.optimize import curve_fit\n",
    "from sklearn.metrics import r2_score\n",
    "from sklearn.metrics import mean_squared_error\n",
    "import matplotlib.pyplot as plt\n",
    "\n",
    "city='istanbul'\n",
    "df = pd.read_csv(ROOT_dir + f'/dbs/flow_{city}_m.csv')\n",
    "df.head()"
   ],
   "metadata": {
    "collapsed": false,
    "pycharm": {
     "name": "#%%\n"
    }
   }
  },
  {
   "cell_type": "code",
   "execution_count": 4,
   "outputs": [
    {
     "data": {
      "text/plain": "34.651019951383795"
     },
     "execution_count": 4,
     "metadata": {},
     "output_type": "execute_result"
    }
   ],
   "source": [
    "len(df.loc[df.speed > df.speed_ff, :])/len(df) * 100"
   ],
   "metadata": {
    "collapsed": false,
    "pycharm": {
     "name": "#%%\n"
    }
   }
  },
  {
   "cell_type": "code",
   "execution_count": 5,
   "outputs": [
    {
     "data": {
      "text/plain": "81.30540243705659"
     },
     "execution_count": 5,
     "metadata": {},
     "output_type": "execute_result"
    }
   ],
   "source": [
    "len(df.loc[df.speed_gt > df.speed, :])/len(df) * 100"
   ],
   "metadata": {
    "collapsed": false,
    "pycharm": {
     "name": "#%%\n"
    }
   }
  },
  {
   "cell_type": "code",
   "execution_count": 10,
   "outputs": [
    {
     "data": {
      "text/plain": "31.54597840057741"
     },
     "execution_count": 10,
     "metadata": {},
     "output_type": "execute_result"
    }
   ],
   "source": [
    "np.nansum(df.loc[df.speed_gt > df.speed, 'speed_gt'] - df.loc[df.speed_gt > df.speed, 'speed'], )/len(df.loc[df.speed_gt > df.speed, :])"
   ],
   "metadata": {
    "collapsed": false,
    "pycharm": {
     "name": "#%%\n"
    }
   }
  },
  {
   "cell_type": "markdown",
   "source": [
    "## 1. Test a road segment with two functions for its two directions"
   ],
   "metadata": {
    "collapsed": false,
    "pycharm": {
     "name": "#%% md\n"
    }
   }
  },
  {
   "cell_type": "code",
   "execution_count": 31,
   "outputs": [
    {
     "data": {
      "text/plain": "      time  sensor HERE_segID  flow  speed     osm_id  speed_ff   speed_gt  \\\n2809     0      41    3_10114  2410  80.33  370173491      73.0  77.275862   \n2810     1      41    3_10114  2387  78.03  370173491      73.0  76.296296   \n2811     2      41    3_10114  2248  80.23  370173491      73.0  79.300000   \n2812     3      41    3_10114  1478  84.27  370173491      73.0  82.266667   \n2813     4      41    3_10114  1008  86.33  370173491      73.0  85.400000   \n\n      direction  speed_gt_ff  capacity_gt  oneway  lanes  capacity  \n2809          0         87.6       4590.5       1      3      3600  \n2810          0         87.6       4590.5       1      3      3600  \n2811          0         87.6       4590.5       1      3      3600  \n2812          0         87.6       4590.5       1      3      3600  \n2813          0         87.6       4590.5       1      3      3600  ",
      "text/html": "<div>\n<style scoped>\n    .dataframe tbody tr th:only-of-type {\n        vertical-align: middle;\n    }\n\n    .dataframe tbody tr th {\n        vertical-align: top;\n    }\n\n    .dataframe thead th {\n        text-align: right;\n    }\n</style>\n<table border=\"1\" class=\"dataframe\">\n  <thead>\n    <tr style=\"text-align: right;\">\n      <th></th>\n      <th>time</th>\n      <th>sensor</th>\n      <th>HERE_segID</th>\n      <th>flow</th>\n      <th>speed</th>\n      <th>osm_id</th>\n      <th>speed_ff</th>\n      <th>speed_gt</th>\n      <th>direction</th>\n      <th>speed_gt_ff</th>\n      <th>capacity_gt</th>\n      <th>oneway</th>\n      <th>lanes</th>\n      <th>capacity</th>\n    </tr>\n  </thead>\n  <tbody>\n    <tr>\n      <th>2809</th>\n      <td>0</td>\n      <td>41</td>\n      <td>3_10114</td>\n      <td>2410</td>\n      <td>80.33</td>\n      <td>370173491</td>\n      <td>73.0</td>\n      <td>77.275862</td>\n      <td>0</td>\n      <td>87.6</td>\n      <td>4590.5</td>\n      <td>1</td>\n      <td>3</td>\n      <td>3600</td>\n    </tr>\n    <tr>\n      <th>2810</th>\n      <td>1</td>\n      <td>41</td>\n      <td>3_10114</td>\n      <td>2387</td>\n      <td>78.03</td>\n      <td>370173491</td>\n      <td>73.0</td>\n      <td>76.296296</td>\n      <td>0</td>\n      <td>87.6</td>\n      <td>4590.5</td>\n      <td>1</td>\n      <td>3</td>\n      <td>3600</td>\n    </tr>\n    <tr>\n      <th>2811</th>\n      <td>2</td>\n      <td>41</td>\n      <td>3_10114</td>\n      <td>2248</td>\n      <td>80.23</td>\n      <td>370173491</td>\n      <td>73.0</td>\n      <td>79.300000</td>\n      <td>0</td>\n      <td>87.6</td>\n      <td>4590.5</td>\n      <td>1</td>\n      <td>3</td>\n      <td>3600</td>\n    </tr>\n    <tr>\n      <th>2812</th>\n      <td>3</td>\n      <td>41</td>\n      <td>3_10114</td>\n      <td>1478</td>\n      <td>84.27</td>\n      <td>370173491</td>\n      <td>73.0</td>\n      <td>82.266667</td>\n      <td>0</td>\n      <td>87.6</td>\n      <td>4590.5</td>\n      <td>1</td>\n      <td>3</td>\n      <td>3600</td>\n    </tr>\n    <tr>\n      <th>2813</th>\n      <td>4</td>\n      <td>41</td>\n      <td>3_10114</td>\n      <td>1008</td>\n      <td>86.33</td>\n      <td>370173491</td>\n      <td>73.0</td>\n      <td>85.400000</td>\n      <td>0</td>\n      <td>87.6</td>\n      <td>4590.5</td>\n      <td>1</td>\n      <td>3</td>\n      <td>3600</td>\n    </tr>\n  </tbody>\n</table>\n</div>"
     },
     "execution_count": 31,
     "metadata": {},
     "output_type": "execute_result"
    }
   ],
   "source": [
    "df = df.loc[(df.speed_gt != 0) & (df.speed_gt_ff > df.speed_gt), :]\n",
    "r = list(df.groupby(['HERE_segID', 'direction']))\n",
    "df_road = r[0][1]\n",
    "df_road.head()"
   ],
   "metadata": {
    "collapsed": false,
    "pycharm": {
     "name": "#%%\n"
    }
   }
  },
  {
   "cell_type": "code",
   "execution_count": 32,
   "outputs": [],
   "source": [
    "X = df_road.loc[:, ['speed_gt', 'speed_gt_ff', 'capacity_gt']].values\n",
    "y = df_road.flow.values\n",
    "popt, _ = curve_fit(flow_cal, X, y)\n",
    "r2 = r2_score(y, flow_cal(X, *popt))"
   ],
   "metadata": {
    "collapsed": false,
    "pycharm": {
     "name": "#%%\n"
    }
   }
  },
  {
   "cell_type": "code",
   "execution_count": 33,
   "outputs": [
    {
     "data": {
      "text/plain": "<Figure size 432x288 with 1 Axes>",
      "image/png": "[encoded data removed]"
     },
     "metadata": {
      "needs_background": "light"
     },
     "output_type": "display_data"
    }
   ],
   "source": [
    "plt.plot(df_road.speed, y, 'b.', label='data')\n",
    "plt.plot(df_road.speed, flow_cal(X, *popt), 'g+',\n",
    "         label=\"fit: $\\\\alpha$=%5.3f, $\\\\beta$=%5.3f ($R^2$=%3.2f)\" % tuple([x for x in popt] + [r2]))\n",
    "plt.xlabel('Speed')\n",
    "plt.ylabel('Flow')\n",
    "plt.legend()\n",
    "plt.show()\n"
   ],
   "metadata": {
    "collapsed": false,
    "pycharm": {
     "name": "#%%\n"
    }
   }
  },
  {
   "cell_type": "markdown",
   "source": [
    "## 2. Iterate over road segment x direction"
   ],
   "metadata": {
    "collapsed": false
   }
  },
  {
   "cell_type": "code",
   "execution_count": 38,
   "outputs": [
    {
     "data": {
      "text/plain": "      time  sensor HERE_segID  flow  speed     osm_id  speed_ff   speed_gt  \\\n2809     0      41    3_10114  2410  80.33  370173491      73.0  77.275862   \n2810     1      41    3_10114  2387  78.03  370173491      73.0  76.296296   \n2811     2      41    3_10114  2248  80.23  370173491      73.0  79.300000   \n2812     3      41    3_10114  1478  84.27  370173491      73.0  82.266667   \n2813     4      41    3_10114  1008  86.33  370173491      73.0  85.400000   \n\n      direction  speed_gt_ff  capacity_gt  oneway  lanes  capacity  \\\n2809          0         87.6       4590.5       1      3      3600   \n2810          0         87.6       4590.5       1      3      3600   \n2811          0         87.6       4590.5       1      3      3600   \n2812          0         87.6       4590.5       1      3      3600   \n2813          0         87.6       4590.5       1      3      3600   \n\n         flow_fit  \n2809  2516.256111  \n2810  2571.338818  \n2811  2390.866669  \n2812  2162.668098  \n2813  1782.594563  ",
      "text/html": "<div>\n<style scoped>\n    .dataframe tbody tr th:only-of-type {\n        vertical-align: middle;\n    }\n\n    .dataframe tbody tr th {\n        vertical-align: top;\n    }\n\n    .dataframe thead th {\n        text-align: right;\n    }\n</style>\n<table border=\"1\" class=\"dataframe\">\n  <thead>\n    <tr style=\"text-align: right;\">\n      <th></th>\n      <th>time</th>\n      <th>sensor</th>\n      <th>HERE_segID</th>\n      <th>flow</th>\n      <th>speed</th>\n      <th>osm_id</th>\n      <th>speed_ff</th>\n      <th>speed_gt</th>\n      <th>direction</th>\n      <th>speed_gt_ff</th>\n      <th>capacity_gt</th>\n      <th>oneway</th>\n      <th>lanes</th>\n      <th>capacity</th>\n      <th>flow_fit</th>\n    </tr>\n  </thead>\n  <tbody>\n    <tr>\n      <th>2809</th>\n      <td>0</td>\n      <td>41</td>\n      <td>3_10114</td>\n      <td>2410</td>\n      <td>80.33</td>\n      <td>370173491</td>\n      <td>73.0</td>\n      <td>77.275862</td>\n      <td>0</td>\n      <td>87.6</td>\n      <td>4590.5</td>\n      <td>1</td>\n      <td>3</td>\n      <td>3600</td>\n      <td>2516.256111</td>\n    </tr>\n    <tr>\n      <th>2810</th>\n      <td>1</td>\n      <td>41</td>\n      <td>3_10114</td>\n      <td>2387</td>\n      <td>78.03</td>\n      <td>370173491</td>\n      <td>73.0</td>\n      <td>76.296296</td>\n      <td>0</td>\n      <td>87.6</td>\n      <td>4590.5</td>\n      <td>1</td>\n      <td>3</td>\n      <td>3600</td>\n      <td>2571.338818</td>\n    </tr>\n    <tr>\n      <th>2811</th>\n      <td>2</td>\n      <td>41</td>\n      <td>3_10114</td>\n      <td>2248</td>\n      <td>80.23</td>\n      <td>370173491</td>\n      <td>73.0</td>\n      <td>79.300000</td>\n      <td>0</td>\n      <td>87.6</td>\n      <td>4590.5</td>\n      <td>1</td>\n      <td>3</td>\n      <td>3600</td>\n      <td>2390.866669</td>\n    </tr>\n    <tr>\n      <th>2812</th>\n      <td>3</td>\n      <td>41</td>\n      <td>3_10114</td>\n      <td>1478</td>\n      <td>84.27</td>\n      <td>370173491</td>\n      <td>73.0</td>\n      <td>82.266667</td>\n      <td>0</td>\n      <td>87.6</td>\n      <td>4590.5</td>\n      <td>1</td>\n      <td>3</td>\n      <td>3600</td>\n      <td>2162.668098</td>\n    </tr>\n    <tr>\n      <th>2813</th>\n      <td>4</td>\n      <td>41</td>\n      <td>3_10114</td>\n      <td>1008</td>\n      <td>86.33</td>\n      <td>370173491</td>\n      <td>73.0</td>\n      <td>85.400000</td>\n      <td>0</td>\n      <td>87.6</td>\n      <td>4590.5</td>\n      <td>1</td>\n      <td>3</td>\n      <td>3600</td>\n      <td>1782.594563</td>\n    </tr>\n  </tbody>\n</table>\n</div>"
     },
     "execution_count": 38,
     "metadata": {},
     "output_type": "execute_result"
    }
   ],
   "source": [
    "df_list = []\n",
    "params = []\n",
    "for ele in r:\n",
    "    # Take a road seg direction to fit with the model\n",
    "    t = ele[1]\n",
    "    X = t.loc[:, ['speed_gt', 'speed_gt_ff', 'capacity_gt']].values\n",
    "    y = t.flow.values\n",
    "    popt, _ = curve_fit(flow_cal, X, y, bounds=[(0.01, 1), (10, 10)])\n",
    "    y_fit = flow_cal(X, *popt)\n",
    "    r2 = r2_score(y, y_fit)\n",
    "    t.loc[:, 'flow_fit'] = y_fit\n",
    "    df_list.append(t)\n",
    "    params.append(tuple([x for x in ele[0]] + [x for x in popt] + [r2]))\n",
    "df_n = pd.concat(df_list)\n",
    "df_para = pd.DataFrame(params, columns=['HERE_segID', 'direction', 'alpha', 'beta', 'r2'])\n",
    "df_n.head()"
   ],
   "metadata": {
    "collapsed": false,
    "pycharm": {
     "name": "#%%\n"
    }
   }
  },
  {
   "cell_type": "code",
   "execution_count": 39,
   "outputs": [
    {
     "data": {
      "text/plain": "  HERE_segID  direction     alpha      beta        r2\n0    3_10114          0  2.358394  4.775112  0.313288\n1    3_10114          1  2.331907  5.055983  0.398671\n2    3_10116          0  5.321872  5.244585  0.479993\n3    3_10116          1  2.888690  3.591069  0.536621\n4    3_10118          0  3.217075  3.600951  0.721100",
      "text/html": "<div>\n<style scoped>\n    .dataframe tbody tr th:only-of-type {\n        vertical-align: middle;\n    }\n\n    .dataframe tbody tr th {\n        vertical-align: top;\n    }\n\n    .dataframe thead th {\n        text-align: right;\n    }\n</style>\n<table border=\"1\" class=\"dataframe\">\n  <thead>\n    <tr style=\"text-align: right;\">\n      <th></th>\n      <th>HERE_segID</th>\n      <th>direction</th>\n      <th>alpha</th>\n      <th>beta</th>\n      <th>r2</th>\n    </tr>\n  </thead>\n  <tbody>\n    <tr>\n      <th>0</th>\n      <td>3_10114</td>\n      <td>0</td>\n      <td>2.358394</td>\n      <td>4.775112</td>\n      <td>0.313288</td>\n    </tr>\n    <tr>\n      <th>1</th>\n      <td>3_10114</td>\n      <td>1</td>\n      <td>2.331907</td>\n      <td>5.055983</td>\n      <td>0.398671</td>\n    </tr>\n    <tr>\n      <th>2</th>\n      <td>3_10116</td>\n      <td>0</td>\n      <td>5.321872</td>\n      <td>5.244585</td>\n      <td>0.479993</td>\n    </tr>\n    <tr>\n      <th>3</th>\n      <td>3_10116</td>\n      <td>1</td>\n      <td>2.888690</td>\n      <td>3.591069</td>\n      <td>0.536621</td>\n    </tr>\n    <tr>\n      <th>4</th>\n      <td>3_10118</td>\n      <td>0</td>\n      <td>3.217075</td>\n      <td>3.600951</td>\n      <td>0.721100</td>\n    </tr>\n  </tbody>\n</table>\n</div>"
     },
     "execution_count": 39,
     "metadata": {},
     "output_type": "execute_result"
    }
   ],
   "source": [
    "# Check the parameters\n",
    "df_para.head()"
   ],
   "metadata": {
    "collapsed": false,
    "pycharm": {
     "name": "#%%\n"
    }
   }
  },
  {
   "cell_type": "code",
   "execution_count": 43,
   "outputs": [],
   "source": [
    "len(df_para.loc[df_para.r2 >0, :]) / len(df_para)\n",
    "df_para.to_csv(ROOT_dir + f'/results/{city}_params.csv', index=False)\n",
    "df_n.to_csv(ROOT_dir + f'/dbs/flow_{city}_m_estimated.csv', index=False)"
   ],
   "metadata": {
    "collapsed": false,
    "pycharm": {
     "name": "#%%\n"
    }
   }
  },
  {
   "cell_type": "markdown",
   "source": [
    "## 3. Find a single parameter set for all"
   ],
   "metadata": {
    "collapsed": false,
    "pycharm": {
     "name": "#%% md\n"
    }
   }
  },
  {
   "cell_type": "code",
   "execution_count": 42,
   "outputs": [
    {
     "name": "stdout",
     "output_type": "stream",
     "text": [
      "Parameters: (5.629002692923951, 5.1629315009731656, 0.4284014153939376, 1406325.0328355886)\n"
     ]
    }
   ],
   "source": [
    "# Take a road seg direction to fit with the model\n",
    "X = df.loc[:, ['speed_gt', 'speed_gt_ff', 'capacity_gt']].values\n",
    "y = df.flow.values\n",
    "popt, _ = curve_fit(flow_cal, X, y, bounds=[(0.01, 1), (10, 10)])\n",
    "y_fit = flow_cal(X, *popt)\n",
    "r2 = r2_score(y, y_fit)\n",
    "mse = mean_squared_error(y, y_fit)\n",
    "df.loc[:, 'flow_fit'] = y_fit\n",
    "print(\"Parameters:\", tuple([x for x in popt] + [r2, mse]))"
   ],
   "metadata": {
    "collapsed": false,
    "pycharm": {
     "name": "#%%\n"
    }
   }
  }
 ],
 "metadata": {
  "kernelspec": {
   "display_name": "Python 3",
   "language": "python",
   "name": "python3"
  },
  "language_info": {
   "codemirror_mode": {
    "name": "ipython",
    "version": 2
   },
   "file_extension": ".py",
   "mimetype": "text/x-python",
   "name": "python",
   "nbconvert_exporter": "python",
   "pygments_lexer": "ipython2",
   "version": "2.7.6"
  }
 },
 "nbformat": 4,
 "nbformat_minor": 0
}