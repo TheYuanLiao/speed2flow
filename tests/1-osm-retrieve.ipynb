{
 "cells": [
  {
   "cell_type": "markdown",
   "metadata": {
    "collapsed": true,
    "pycharm": {
     "name": "#%% md\n"
    }
   },
   "source": [
    "# Load OSM data to add more info to the flow record"
   ]
  },
  {
   "cell_type": "code",
   "execution_count": 1,
   "outputs": [],
   "source": [
    "%load_ext autoreload\n",
    "%autoreload 2\n",
    "%matplotlib inline\n",
    "\n",
    "import os\n",
    "import subprocess\n",
    "import sys\n",
    "def get_repo_root():\n",
    "    \"\"\"Get the root directory of the repo.\"\"\"\n",
    "    dir_in_repo = os.path.dirname(os.path.abspath('__file__')) # os.getcwd()\n",
    "    return subprocess.check_output('git rev-parse --show-toplevel'.split(),\n",
    "                                   cwd=dir_in_repo,\n",
    "                                   universal_newlines=True).rstrip()\n",
    "sys.path.append(get_repo_root())\n",
    "ROOT_dir = get_repo_root()"
   ],
   "metadata": {
    "collapsed": false,
    "pycharm": {
     "name": "#%%\n"
    }
   }
  },
  {
   "cell_type": "code",
   "execution_count": 2,
   "outputs": [],
   "source": [
    "import geopandas as gpd\n",
    "import pandas as pd\n",
    "import osmnx as ox\n",
    "import ast\n",
    "import numpy as np\n",
    "osm_folder = ROOT_dir + '/dbs/osm/'\n",
    "original_network = ROOT_dir + '/dbs/osm/Road_Network_Istanbul.shp'\n",
    "city = 'istanbul'"
   ],
   "metadata": {
    "collapsed": false,
    "pycharm": {
     "name": "#%%\n"
    }
   }
  },
  {
   "cell_type": "markdown",
   "source": [
    "## 1 Load the original road network"
   ],
   "metadata": {
    "collapsed": false,
    "pycharm": {
     "name": "#%% md\n"
    }
   }
  },
  {
   "cell_type": "code",
   "execution_count": 4,
   "outputs": [
    {
     "data": {
      "text/plain": "Index(['osm_id', 'name', 'ref', 'type', 'oneway', 'bridge', 'maxspeed',\n       'geometry'],\n      dtype='object')"
     },
     "execution_count": 4,
     "metadata": {},
     "output_type": "execute_result"
    }
   ],
   "source": [
    "gdf = gpd.read_file(original_network)\n",
    "minx, miny, maxx, maxy = gdf.geometry.total_bounds\n",
    "gdf['osm_id'] = gdf['osm_id'].astype(int)\n",
    "gdf['osm_id'] = gdf['osm_id'].astype(str)\n",
    "gdf.columns"
   ],
   "metadata": {
    "collapsed": false,
    "pycharm": {
     "name": "#%%\n"
    }
   }
  },
  {
   "cell_type": "markdown",
   "source": [
    "## 2 Download the complete OSM and save it"
   ],
   "metadata": {
    "collapsed": false,
    "pycharm": {
     "name": "#%% md\n"
    }
   }
  },
  {
   "cell_type": "code",
   "execution_count": 5,
   "outputs": [],
   "source": [
    "new_network = osm_folder + city + '.graphml'\n",
    "if not os.path.exists(new_network):\n",
    "    G = ox.graph_from_bbox(maxy, miny, maxx, minx, network_type='drive')\n",
    "    ox.save_graphml(G, filepath = osm_folder + city + '.graphml')\n",
    "else:\n",
    "    G = ox.load_graphml(new_network)"
   ],
   "metadata": {
    "collapsed": false,
    "pycharm": {
     "name": "#%%\n"
    }
   }
  },
  {
   "cell_type": "markdown",
   "source": [
    "## 3 Process the downloaded network"
   ],
   "metadata": {
    "collapsed": false
   }
  },
  {
   "cell_type": "code",
   "execution_count": 6,
   "outputs": [],
   "source": [
    "gdf_n = ox.graph_to_gdfs(G)\n",
    "edge = gdf_n[1]\n",
    "edge = edge.loc[:, ['geometry', 'highway', 'junction', 'length', 'maxspeed', 'name', 'oneway',\n",
    "                    'osmid', 'u', 'v', 'width', 'lanes']]\n",
    "fields = ['osmid', 'width', 'lanes']\n",
    "df_inter = pd.DataFrame()\n",
    "for f in fields:\n",
    "    df_inter[f] = edge[f].astype(str)\n",
    "gdf_edge = gpd.GeoDataFrame(df_inter,geometry=edge[\"geometry\"])\n",
    "gdf_edge = gdf_edge.rename(columns={'osmid': 'osm_id'})"
   ],
   "metadata": {
    "collapsed": false,
    "pycharm": {
     "name": "#%%\n"
    }
   }
  },
  {
   "cell_type": "code",
   "execution_count": 7,
   "outputs": [],
   "source": [
    "# Create a dict\n",
    "gdf_edge['osm_id'] = gdf_edge['osm_id'].apply(lambda x: str(ast.literal_eval(x)[0]) if '[' in x else x)\n",
    "gdf_edge['lanes'] = gdf_edge['lanes'].apply(lambda x: str(ast.literal_eval(x)[0]) if '[' in x else x)\n",
    "#gdf_edge = gdf_edge.loc[gdf_edge['osm_id'].isin(gdf['osm_id']), :]\n",
    "gdf_edge.drop_duplicates(subset=['osm_id'], inplace=True)\n",
    "id2info = {}\n",
    "for _, row in gdf_edge.iterrows():\n",
    "    id2info[row['osm_id']] = (row['width'], row['lanes'])"
   ],
   "metadata": {
    "collapsed": false,
    "pycharm": {
     "name": "#%%\n"
    }
   }
  },
  {
   "cell_type": "markdown",
   "source": [
    "## 4 Update the network with the infor of width, lanes, and oneway"
   ],
   "metadata": {
    "collapsed": false
   }
  },
  {
   "cell_type": "code",
   "execution_count": 8,
   "outputs": [
    {
     "data": {
      "text/plain": "    osm_id                     name   ref           type  oneway  bridge  \\\n0  4341858                     None  None  motorway_link       1       0   \n1  4369344                     None  D100          trunk       1       0   \n2  4406227         Celal Atik Sokak  None    residential       0       0   \n3  4412402  Edirne-İstanbul Otoyolu   O-3       motorway       1       0   \n4  4434314                     None  None       tertiary       0       0   \n\n   maxspeed                                           geometry width lanes  \n0         0  LINESTRING (28.69000 41.04111, 28.69020 41.041...   nan   nan  \n1         0  LINESTRING (29.09750 40.97816, 29.09649 40.979...   nan   nan  \n2         0  LINESTRING (28.99528 41.05788, 28.99476 41.057...   nan   nan  \n3         0  LINESTRING (28.79442 41.06402, 28.79347 41.064...   nan   nan  \n4         0  LINESTRING (28.99528 41.06387, 28.99532 41.063...   nan   nan  ",
      "text/html": "<div>\n<style scoped>\n    .dataframe tbody tr th:only-of-type {\n        vertical-align: middle;\n    }\n\n    .dataframe tbody tr th {\n        vertical-align: top;\n    }\n\n    .dataframe thead th {\n        text-align: right;\n    }\n</style>\n<table border=\"1\" class=\"dataframe\">\n  <thead>\n    <tr style=\"text-align: right;\">\n      <th></th>\n      <th>osm_id</th>\n      <th>name</th>\n      <th>ref</th>\n      <th>type</th>\n      <th>oneway</th>\n      <th>bridge</th>\n      <th>maxspeed</th>\n      <th>geometry</th>\n      <th>width</th>\n      <th>lanes</th>\n    </tr>\n  </thead>\n  <tbody>\n    <tr>\n      <th>0</th>\n      <td>4341858</td>\n      <td>None</td>\n      <td>None</td>\n      <td>motorway_link</td>\n      <td>1</td>\n      <td>0</td>\n      <td>0</td>\n      <td>LINESTRING (28.69000 41.04111, 28.69020 41.041...</td>\n      <td>nan</td>\n      <td>nan</td>\n    </tr>\n    <tr>\n      <th>1</th>\n      <td>4369344</td>\n      <td>None</td>\n      <td>D100</td>\n      <td>trunk</td>\n      <td>1</td>\n      <td>0</td>\n      <td>0</td>\n      <td>LINESTRING (29.09750 40.97816, 29.09649 40.979...</td>\n      <td>nan</td>\n      <td>nan</td>\n    </tr>\n    <tr>\n      <th>2</th>\n      <td>4406227</td>\n      <td>Celal Atik Sokak</td>\n      <td>None</td>\n      <td>residential</td>\n      <td>0</td>\n      <td>0</td>\n      <td>0</td>\n      <td>LINESTRING (28.99528 41.05788, 28.99476 41.057...</td>\n      <td>nan</td>\n      <td>nan</td>\n    </tr>\n    <tr>\n      <th>3</th>\n      <td>4412402</td>\n      <td>Edirne-İstanbul Otoyolu</td>\n      <td>O-3</td>\n      <td>motorway</td>\n      <td>1</td>\n      <td>0</td>\n      <td>0</td>\n      <td>LINESTRING (28.79442 41.06402, 28.79347 41.064...</td>\n      <td>nan</td>\n      <td>nan</td>\n    </tr>\n    <tr>\n      <th>4</th>\n      <td>4434314</td>\n      <td>None</td>\n      <td>None</td>\n      <td>tertiary</td>\n      <td>0</td>\n      <td>0</td>\n      <td>0</td>\n      <td>LINESTRING (28.99528 41.06387, 28.99532 41.063...</td>\n      <td>nan</td>\n      <td>nan</td>\n    </tr>\n  </tbody>\n</table>\n</div>"
     },
     "execution_count": 8,
     "metadata": {},
     "output_type": "execute_result"
    }
   ],
   "source": [
    "gdf.loc[:, 'width'] = gdf.loc[:, 'osm_id'].apply(lambda x: id2info[x][0] if x in id2info else np.nan)\n",
    "gdf.loc[:, 'lanes'] = gdf.loc[:, 'osm_id'].apply(lambda x: id2info[x][1] if x in id2info else np.nan)\n",
    "gdf.head()"
   ],
   "metadata": {
    "collapsed": false,
    "pycharm": {
     "name": "#%%\n"
    }
   }
  },
  {
   "cell_type": "code",
   "execution_count": 10,
   "outputs": [],
   "source": [
    "gdf.to_file(osm_folder + city + \".shp\")\n",
    "#gdf_edge.to_file(osm_folder + city + \".shp\")"
   ],
   "metadata": {
    "collapsed": false,
    "pycharm": {
     "name": "#%%\n"
    }
   }
  }
 ],
 "metadata": {
  "kernelspec": {
   "display_name": "Python 3",
   "language": "python",
   "name": "python3"
  },
  "language_info": {
   "codemirror_mode": {
    "name": "ipython",
    "version": 2
   },
   "file_extension": ".py",
   "mimetype": "text/x-python",
   "name": "python",
   "nbconvert_exporter": "python",
   "pygments_lexer": "ipython2",
   "version": "2.7.6"
  }
 },
 "nbformat": 4,
 "nbformat_minor": 0
}