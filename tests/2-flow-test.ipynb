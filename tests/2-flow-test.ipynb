{
 "cells": [
  {
   "cell_type": "markdown",
   "metadata": {
    "collapsed": true,
    "pycharm": {
     "name": "#%% md\n"
    }
   },
   "source": [
    "# Flow computation"
   ]
  },
  {
   "cell_type": "code",
   "execution_count": 1,
   "outputs": [],
   "source": [
    "%load_ext autoreload\n",
    "%autoreload 2\n",
    "%matplotlib inline\n",
    "\n",
    "import os\n",
    "import subprocess\n",
    "import sys\n",
    "def get_repo_root():\n",
    "    \"\"\"Get the root directory of the repo.\"\"\"\n",
    "    dir_in_repo = os.path.dirname(os.path.abspath('__file__')) # os.getcwd()\n",
    "    return subprocess.check_output('git rev-parse --show-toplevel'.split(),\n",
    "                                   cwd=dir_in_repo,\n",
    "                                   universal_newlines=True).rstrip()\n",
    "sys.path.append(get_repo_root())\n",
    "ROOT_dir = get_repo_root()"
   ],
   "metadata": {
    "collapsed": false,
    "pycharm": {
     "name": "#%%\n"
    }
   }
  },
  {
   "cell_type": "code",
   "execution_count": 2,
   "outputs": [],
   "source": [
    "import pandas as pd\n",
    "import geopandas as gpd\n",
    "import numpy as np\n",
    "\n",
    "osm_folder = ROOT_dir + '/dbs/osm/'\n",
    "city = 'dublin'\n",
    "network = osm_folder + f'{city}.shp'"
   ],
   "metadata": {
    "collapsed": false,
    "pycharm": {
     "name": "#%%\n"
    }
   }
  },
  {
   "cell_type": "markdown",
   "source": [
    "## 1 Load data"
   ],
   "metadata": {
    "collapsed": false,
    "pycharm": {
     "name": "#%% md\n"
    }
   }
  },
  {
   "cell_type": "code",
   "execution_count": 3,
   "outputs": [],
   "source": [
    "gdf = gpd.read_file(network)\n",
    "gdf['osm_id'] = gdf['osm_id'].astype(int)\n",
    "df = pd.read_csv(ROOT_dir + '/dbs/flow2.csv')\n",
    "df.drop(columns=['Unnamed: 0', 'Unnamed: 0.1'], inplace=True)"
   ],
   "metadata": {
    "collapsed": false,
    "pycharm": {
     "name": "#%%\n"
    }
   }
  },
  {
   "cell_type": "code",
   "execution_count": 4,
   "outputs": [
    {
     "data": {
      "text/plain": "                  Time Here_segmentID  Here_Speed_uncap  Here_FFS  Flow  \\\n0  2018-02-01 00:00:00       2_18211-         25.595833      34.0  1570   \n1  2018-02-01 00:00:00        2_5202-         24.006667      35.0  1570   \n2  2018-02-01 00:00:00        2_4224-         28.519167      33.0  1570   \n3  2018-02-01 00:00:00       2_18210-         30.400833      33.0  1570   \n4  2018-02-01 00:00:00       2_18210-         30.400833      33.0  1570   \n\n   Flow_Sensor_Number     OSM_ID  OSM_Max_Speed     osm_id  oneway  lanes  \n0                  37    4408238             50    4408238       1      3  \n1                  37    4408238             50    4408238       1      3  \n2                  37  361409608             50  361409608       1      2  \n3                  37    3789252             50    3789252       0      3  \n4                  37    3789252             50    3789252       0      3  ",
      "text/html": "<div>\n<style scoped>\n    .dataframe tbody tr th:only-of-type {\n        vertical-align: middle;\n    }\n\n    .dataframe tbody tr th {\n        vertical-align: top;\n    }\n\n    .dataframe thead th {\n        text-align: right;\n    }\n</style>\n<table border=\"1\" class=\"dataframe\">\n  <thead>\n    <tr style=\"text-align: right;\">\n      <th></th>\n      <th>Time</th>\n      <th>Here_segmentID</th>\n      <th>Here_Speed_uncap</th>\n      <th>Here_FFS</th>\n      <th>Flow</th>\n      <th>Flow_Sensor_Number</th>\n      <th>OSM_ID</th>\n      <th>OSM_Max_Speed</th>\n      <th>osm_id</th>\n      <th>oneway</th>\n      <th>lanes</th>\n    </tr>\n  </thead>\n  <tbody>\n    <tr>\n      <th>0</th>\n      <td>2018-02-01 00:00:00</td>\n      <td>2_18211-</td>\n      <td>25.595833</td>\n      <td>34.0</td>\n      <td>1570</td>\n      <td>37</td>\n      <td>4408238</td>\n      <td>50</td>\n      <td>4408238</td>\n      <td>1</td>\n      <td>3</td>\n    </tr>\n    <tr>\n      <th>1</th>\n      <td>2018-02-01 00:00:00</td>\n      <td>2_5202-</td>\n      <td>24.006667</td>\n      <td>35.0</td>\n      <td>1570</td>\n      <td>37</td>\n      <td>4408238</td>\n      <td>50</td>\n      <td>4408238</td>\n      <td>1</td>\n      <td>3</td>\n    </tr>\n    <tr>\n      <th>2</th>\n      <td>2018-02-01 00:00:00</td>\n      <td>2_4224-</td>\n      <td>28.519167</td>\n      <td>33.0</td>\n      <td>1570</td>\n      <td>37</td>\n      <td>361409608</td>\n      <td>50</td>\n      <td>361409608</td>\n      <td>1</td>\n      <td>2</td>\n    </tr>\n    <tr>\n      <th>3</th>\n      <td>2018-02-01 00:00:00</td>\n      <td>2_18210-</td>\n      <td>30.400833</td>\n      <td>33.0</td>\n      <td>1570</td>\n      <td>37</td>\n      <td>3789252</td>\n      <td>50</td>\n      <td>3789252</td>\n      <td>0</td>\n      <td>3</td>\n    </tr>\n    <tr>\n      <th>4</th>\n      <td>2018-02-01 00:00:00</td>\n      <td>2_18210-</td>\n      <td>30.400833</td>\n      <td>33.0</td>\n      <td>1570</td>\n      <td>37</td>\n      <td>3789252</td>\n      <td>50</td>\n      <td>3789252</td>\n      <td>0</td>\n      <td>3</td>\n    </tr>\n  </tbody>\n</table>\n</div>"
     },
     "execution_count": 4,
     "metadata": {},
     "output_type": "execute_result"
    }
   ],
   "source": [
    "df_n = pd.merge(df, gdf.loc[:, ['osm_id', 'oneway', 'lanes']].drop_duplicates(subset=['osm_id']),\n",
    "                left_on='OSM_ID', right_on='osm_id', how='left')\n",
    "df_n.loc[:, 'lanes'] = df_n.loc[:, 'lanes'].apply(lambda x: int(x) if x in ['4', '3', '2', '1'] else 1)\n",
    "df_n.loc[:, 'oneway'] = df_n.loc[:, 'oneway'].astype(int)\n",
    "df_n.head()"
   ],
   "metadata": {
    "collapsed": false,
    "pycharm": {
     "name": "#%%\n"
    }
   }
  },
  {
   "cell_type": "code",
   "execution_count": 5,
   "outputs": [
    {
     "data": {
      "text/plain": "oneway  lanes\n0       1         21626\n        2          9830\n        3        106152\n        4          5889\n1       1          1966\n        2          5898\n        3         45218\ndtype: int64"
     },
     "execution_count": 5,
     "metadata": {},
     "output_type": "execute_result"
    }
   ],
   "source": [
    "df_n.groupby(['oneway', 'lanes']).size()"
   ],
   "metadata": {
    "collapsed": false,
    "pycharm": {
     "name": "#%%\n"
    }
   }
  },
  {
   "cell_type": "code",
   "execution_count": 9,
   "outputs": [
    {
     "name": "stdout",
     "output_type": "stream",
     "text": [
      "Number of road segments: 48\n"
     ]
    }
   ],
   "source": [
    "print('Number of road segments:', len(df_n.Here_segmentID.unique()))"
   ],
   "metadata": {
    "collapsed": false,
    "pycharm": {
     "name": "#%%\n"
    }
   }
  },
  {
   "cell_type": "markdown",
   "source": [
    "## 2 Define capacity theoretically"
   ],
   "metadata": {
    "collapsed": false,
    "pycharm": {
     "name": "#%% md\n"
    }
   }
  },
  {
   "cell_type": "code",
   "execution_count": 6,
   "outputs": [],
   "source": [
    "capacity_dict = {(1, 1): 1200, (1, 0): 700, (2, 1): 2400, (2, 0): 1500,\n",
    "                 (3, 1): 3600, (3, 0): 2800, (4, 1): 4800, (4, 0): 4000}"
   ],
   "metadata": {
    "collapsed": false,
    "pycharm": {
     "name": "#%%\n"
    }
   }
  },
  {
   "cell_type": "code",
   "execution_count": 8,
   "outputs": [],
   "source": [
    "df_n.loc[:, 'capacity'] = df_n.apply(lambda row: capacity_dict[(row['lanes'], row['oneway'])], axis=1)\n",
    "df_n.to_csv(ROOT_dir + '/dbs/flow2m.csv', index=False)"
   ],
   "metadata": {
    "collapsed": false,
    "pycharm": {
     "name": "#%%\n"
    }
   }
  },
  {
   "cell_type": "markdown",
   "source": [
    "## 3 Test the simple form of BPR"
   ],
   "metadata": {
    "collapsed": false,
    "pycharm": {
     "name": "#%% md\n"
    }
   }
  },
  {
   "cell_type": "code",
   "execution_count": 9,
   "outputs": [],
   "source": [
    "df_n = pd.read_csv(ROOT_dir + '/dbs/flow2m.csv')\n",
    "def capacity_estimation(a=None, L=None, u=None, RT=None, l=None):\n",
    "    return 1000*l/(0.278 * RT + u/(26 * a) + L)\n",
    "df_n.loc[:, 'capacity_est'] = df_n.apply(lambda row: capacity_estimation(a=2.5, L=4.5, u=row['OSM_Max_Speed'],\n",
    "                                                                         RT=1.1, l=row['lanes']), axis=1)"
   ],
   "metadata": {
    "collapsed": false,
    "pycharm": {
     "name": "#%%\n"
    }
   }
  },
  {
   "cell_type": "code",
   "execution_count": 12,
   "outputs": [],
   "source": [
    "alpha = 0.15\n",
    "beta = 4\n",
    "# Here_FFS\n",
    "df_n.loc[:, 'flow'] = df_n.capacity * ( (df_n.Here_FFS / df_n.Here_Speed_uncap - 1) / alpha )**(1/beta)"
   ],
   "metadata": {
    "collapsed": false,
    "pycharm": {
     "name": "#%%\n"
    }
   }
  }
 ],
 "metadata": {
  "kernelspec": {
   "display_name": "Python 3",
   "language": "python",
   "name": "python3"
  },
  "language_info": {
   "codemirror_mode": {
    "name": "ipython",
    "version": 2
   },
   "file_extension": ".py",
   "mimetype": "text/x-python",
   "name": "python",
   "nbconvert_exporter": "python",
   "pygments_lexer": "ipython2",
   "version": "2.7.6"
  }
 },
 "nbformat": 4,
 "nbformat_minor": 0
}