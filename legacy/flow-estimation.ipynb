{
 "cells": [
  {
   "cell_type": "markdown",
   "metadata": {
    "collapsed": true,
    "pycharm": {
     "name": "#%% md\n"
    }
   },
   "source": [
    "# Flow estimation using the calibrated parameters - BPR"
   ]
  },
  {
   "cell_type": "code",
   "execution_count": 1,
   "outputs": [],
   "source": [
    "%load_ext autoreload\n",
    "%autoreload 2\n",
    "%matplotlib inline\n",
    "\n",
    "import os\n",
    "import subprocess\n",
    "import sys\n",
    "import pandas as pd\n",
    "\n",
    "\n",
    "def get_repo_root():\n",
    "    \"\"\"Get the root directory of the repo.\"\"\"\n",
    "    dir_in_repo = os.path.dirname(os.path.abspath('__file__')) # os.getcwd()\n",
    "    return subprocess.check_output('git rev-parse --show-toplevel'.split(),\n",
    "                                   cwd=dir_in_repo,\n",
    "                                   universal_newlines=True).rstrip()\n",
    "sys.path.append(get_repo_root())\n",
    "ROOT_dir = get_repo_root()"
   ],
   "metadata": {
    "collapsed": false,
    "pycharm": {
     "name": "#%%\n"
    }
   }
  },
  {
   "cell_type": "markdown",
   "source": [
    "## 1 Load data"
   ],
   "metadata": {
    "collapsed": false,
    "pycharm": {
     "name": "#%% md\n"
    }
   }
  },
  {
   "cell_type": "code",
   "execution_count": 2,
   "outputs": [],
   "source": [
    "df_n = pd.read_csv(ROOT_dir + '/dbs/flow2m.csv')\n",
    "df_n = df_n.loc[(df_n.Here_Speed_uncap != 0) & (df_n.Here_FFS > df_n.Here_Speed_uncap)]\n",
    "df_para = pd.read_csv(ROOT_dir + '/results/params.csv')\n",
    "para_dict = {row['here_seg']: (row['alpha'], row['beta']) for _, row in df_para.iterrows()}"
   ],
   "metadata": {
    "collapsed": false,
    "pycharm": {
     "name": "#%%\n"
    }
   }
  },
  {
   "cell_type": "markdown",
   "source": [
    "## 2 Compute flow with the calibrated parameters for BPR"
   ],
   "metadata": {
    "collapsed": false
   }
  },
  {
   "cell_type": "code",
   "execution_count": 3,
   "outputs": [],
   "source": [
    "def flow_estimator(row):\n",
    "    ca = row['capacity']\n",
    "    u_f = row['Here_FFS']\n",
    "    u = row['Here_Speed_uncap']\n",
    "    alpha = para_dict[row['Here_segmentID']][0]\n",
    "    beta = para_dict[row['Here_segmentID']][1]\n",
    "    return ca * ( (u_f / u - 1) / alpha )**(1/beta)\n",
    "\n",
    "# df_n.capacity * ( (df_n.Here_FFS / df_n.Here_Speed_uncap - 1) / alpha )**(1/beta)\n",
    "df_n.loc[:, 'flow'] = df_n.apply(lambda row: flow_estimator(row), axis=1)\n",
    "df_n.loc[:, 'day'] = df_n.loc[:, 'Time'].apply(lambda x: x.split(' ')[0])\n",
    "df_n.loc[:, 'hour'] = df_n.loc[:, 'Time'].apply(lambda x: int(x.split(' ')[1].split(':')[0]))"
   ],
   "metadata": {
    "collapsed": false,
    "pycharm": {
     "name": "#%%\n"
    }
   }
  },
  {
   "cell_type": "code",
   "execution_count": 7,
   "outputs": [],
   "source": [
    "df_n.to_csv(ROOT_dir + '/dbs/flow2m_estimated.csv', index=False)"
   ],
   "metadata": {
    "collapsed": false,
    "pycharm": {
     "name": "#%%\n"
    }
   }
  }
 ],
 "metadata": {
  "kernelspec": {
   "display_name": "Python 3",
   "language": "python",
   "name": "python3"
  },
  "language_info": {
   "codemirror_mode": {
    "name": "ipython",
    "version": 2
   },
   "file_extension": ".py",
   "mimetype": "text/x-python",
   "name": "python",
   "nbconvert_exporter": "python",
   "pygments_lexer": "ipython2",
   "version": "2.7.6"
  }
 },
 "nbformat": 4,
 "nbformat_minor": 0
}